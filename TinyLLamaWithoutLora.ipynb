{
 "cells": [
  {
   "cell_type": "code",
   "execution_count": null,
   "metadata": {},
   "outputs": [],
   "source": [
    "import torch\n",
    "from datasets import load_dataset\n",
    "from transformers import (\n",
    "    AutoModelForCausalLM,\n",
    "    AutoTokenizer,\n",
    "    Trainer,\n",
    "    TrainingArguments,\n",
    "    DataCollatorForLanguageModeling,\n",
    "    BitsAndBytesConfig\n",
    ")\n",
    "\n",
    "# Our chosen gpt2 model\n",
    "BASE_MODEL = \"gpt2\"\n",
    "\n"
   ]
  },
  {
   "cell_type": "code",
   "execution_count": null,
   "metadata": {},
   "outputs": [],
   "source": [
    "ds_name = \"StephanAkkerman/crypto-stock-tweets\"\n",
    "dataset = load_dataset(ds_name, split=\"train[:30%]\")  # Reduced dataset size\n",
    "dataset  = dataset.remove_columns(\"url\")\n"
   ]
  },
  {
   "cell_type": "code",
   "execution_count": null,
   "metadata": {},
   "outputs": [],
   "source": [
    "from datasets import Dataset\n",
    "import re\n",
    "from transformers import GPT2LMHeadModel, GPT2Tokenizer, TrainingArguments, Trainer\n",
    "\n",
    "def clean_tweet(tweet):\n",
    "    \"\"\"Clean crypto tweets while preserving key crypto symbols\"\"\"\n",
    "    # Remove hashtags but keep $SYMBOLS\n",
    "    tweet = re.sub(r'#(\\w+)', r'\\1', tweet)  # Remove # but keep the word\n",
    "    \n",
    "    # Remove URLs\n",
    "    tweet = re.sub(r'https?://\\S+', '', tweet)\n",
    "    \n",
    "    # Clean special characters but preserve crypto mentions\n",
    "    tweet = re.sub(r'[^\\w\\s$%@.,!?&/-]', '', tweet)\n",
    "    \n",
    "    # Normalize whitespace\n",
    "    tweet = re.sub(r'\\s+', ' ', tweet).strip()\n",
    "    \n",
    "    return tweet\n",
    "\n",
    "def format_for_generation(examples):\n",
    "    \"\"\"Add prompt prefix and structure tweets for generation\"\"\"\n",
    "    return {\n",
    "        \"text\": [f\"Cryptocurrency Tweet: {clean_tweet(txt)}\\n\" \n",
    "                for txt in examples[\"text\"]]\n",
    "    }\n",
    "    \n",
    "dataset = dataset.map(format_for_generation, batched=True)"
   ]
  },
  {
   "cell_type": "code",
   "execution_count": null,
   "metadata": {},
   "outputs": [],
   "source": [
    "tokenizer = AutoTokenizer.from_pretrained(BASE_MODEL)\n",
    "\n",
    "model = AutoModelForCausalLM.from_pretrained(\n",
    "    BASE_MODEL,\n",
    "    load_in_8bit=True,\n",
    "    device_map=\"auto\",\n",
    "    torch_dtype=torch.float16\n",
    ")\n",
    "\n",
    "tokenizer.pad_token = tokenizer.eos_token  # GPT-2 models don’t have a pad token, use eos_token instead"
   ]
  },
  {
   "cell_type": "code",
   "execution_count": null,
   "metadata": {},
   "outputs": [],
   "source": [
    "def tokenize_function(examples):\n",
    "    return tokenizer(\n",
    "        examples[\"text\"],\n",
    "        truncation=True,\n",
    "        max_length=96,  # Reduced sequence length\n",
    "        padding=\"max_length\",\n",
    "        return_tensors=\"pt\"\n",
    "    )\n",
    "    \n",
    "    \n",
    "tokenized_dataset = dataset.map(\n",
    "    tokenize_function,\n",
    "    batched=True,\n",
    "    batch_size=1000\n",
    ")\n"
   ]
  },
  {
   "cell_type": "code",
   "execution_count": null,
   "metadata": {},
   "outputs": [],
   "source": [
    "# train_size = int(0.8 * len(tokenized_dataset))\n",
    "# train_dataset = tokenized_dataset.select(range(train_size))\n",
    "# eval_dataset  = tokenized_dataset.select(range(train_size, len(tokenized_dataset)))\n",
    "\n",
    "# print(\"Train size:\", len(train_dataset))\n",
    "# print(\"Eval size: \", len(eval_dataset))"
   ]
  },
  {
   "cell_type": "code",
   "execution_count": null,
   "metadata": {},
   "outputs": [],
   "source": [
    "# data_collator = DataCollatorForLanguageModeling(\n",
    "#     tokenizer=tokenizer, \n",
    "#     mlm=False  # No masked language modeling for causal models\n",
    "# )"
   ]
  },
  {
   "cell_type": "code",
   "execution_count": null,
   "metadata": {},
   "outputs": [],
   "source": [
    "training_args = TrainingArguments(\n",
    "    output_dir=\"crypto_gpt2\",\n",
    "    num_train_epochs=1,\n",
    "    per_device_train_batch_size=16,  # Increased batch size\n",
    "    gradient_accumulation_steps=2,\n",
    "    learning_rate=3e-4,\n",
    "    fp16=True,  # Keep FP16 enabled\n",
    "    gradient_checkpointing=False,  # Disabled to avoid error\n",
    "    optim=\"adafactor\",  # Memory-efficient optimizer\n",
    "    logging_steps=50,\n",
    "    save_total_limit=1,\n",
    "    max_steps=2000,  # Hard limit steps\n",
    "    report_to=\"none\"\n",
    ")\n"
   ]
  },
  {
   "cell_type": "code",
   "execution_count": null,
   "metadata": {},
   "outputs": [],
   "source": [
    "data_collator = DataCollatorForLanguageModeling(\n",
    "    tokenizer=tokenizer,\n",
    "    mlm=False,\n",
    "    pad_to_multiple_of=8  # Better GPU utilization\n",
    ")\n",
    "\n",
    "trainer = Trainer(\n",
    "    model=model,\n",
    "    args=training_args,\n",
    "    train_dataset=tokenized_dataset,\n",
    "    data_collator=data_collator\n",
    ")"
   ]
  },
  {
   "cell_type": "code",
   "execution_count": null,
   "metadata": {},
   "outputs": [],
   "source": [
    "trainer.train()\n",
    "\n",
    "# Save the final model\n",
    "trainer.save_model(\"tinylama-1.1b-crypto-fullft-checkpoint\", safe_serialization=False)\n",
    "print(\"Fine-tuning complete. Model saved.\")"
   ]
  },
  {
   "cell_type": "code",
   "execution_count": null,
   "metadata": {},
   "outputs": [],
   "source": [
    "trainer.save_model(\"tinylama-1.1b-crypto-fullft-checkpoint\")\n"
   ]
  },
  {
   "cell_type": "code",
   "execution_count": null,
   "metadata": {},
   "outputs": [],
   "source": [
    "model = AutoModelForCausalLM.from_pretrained(\"tinylama-1.1b-crypto-fullft-checkpoint\")\n",
    "prompt = \"tell me something about bitcoin\"\n",
    "inputs = tokenizer(prompt, return_tensors=\"pt\").to(\"cuda\")\n",
    "\n",
    "with torch.no_grad():\n",
    "    outputs = model.generate(\n",
    "        **inputs,\n",
    "        max_new_tokens=50,\n",
    "        temperature=0.7,\n",
    "        top_p=0.9\n",
    "    )\n",
    "\n",
    "print(\"Generated text:\")\n",
    "print(tokenizer.decode(outputs[0], skip_special_tokens=True))"
   ]
  }
 ],
 "metadata": {
  "kernelspec": {
   "display_name": "base",
   "language": "python",
   "name": "python3"
  },
  "language_info": {
   "codemirror_mode": {
    "name": "ipython",
    "version": 3
   },
   "file_extension": ".py",
   "mimetype": "text/x-python",
   "name": "python",
   "nbconvert_exporter": "python",
   "pygments_lexer": "ipython3",
   "version": "3.9.12"
  }
 },
 "nbformat": 4,
 "nbformat_minor": 2
}
