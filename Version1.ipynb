{
 "cells": [
  {
   "cell_type": "code",
   "execution_count": null,
   "metadata": {},
   "outputs": [],
   "source": [
    "import torch\n",
    "import math\n",
    "from datasets import load_dataset\n",
    "from transformers import (\n",
    "    AutoModelForCausalLM,\n",
    "    AutoTokenizer,\n",
    "    Trainer,\n",
    "    TrainingArguments,\n",
    "    DataCollatorForLanguageModeling,\n",
    ")\n",
    "from peft import LoraConfig, get_peft_model\n",
    "\n",
    "# Our chosen base model\n",
    "BASE_MODEL = \"gpt2\""
   ]
  },
  {
   "cell_type": "code",
   "execution_count": null,
   "metadata": {},
   "outputs": [],
   "source": [
    "# ds_name = \"StephanAkkerman/crypto-stock-tweets\"\n",
    "ds_name = \"flowfree/crypto-news-headlines\"\n",
    "dataset = load_dataset(ds_name)\n",
    "train = dataset[\"train\"]\n",
    "val = dataset[\"validation\"]\n"
   ]
  },
  {
   "cell_type": "code",
   "execution_count": null,
   "metadata": {},
   "outputs": [],
   "source": [
    "\n"
   ]
  },
  {
   "cell_type": "code",
   "execution_count": null,
   "metadata": {},
   "outputs": [],
   "source": [
    "tokenizer = AutoTokenizer.from_pretrained(BASE_MODEL)\n",
    "tokenizer.pad_token = tokenizer.eos_token"
   ]
  },
  {
   "cell_type": "code",
   "execution_count": null,
   "metadata": {},
   "outputs": [],
   "source": [
    "def tokenize_function(examples):\n",
    "    return tokenizer(\n",
    "        examples[\"text\"],\n",
    "        truncation=True,\n",
    "        max_length=512,   # keeps sequence length small to reduce memory usage\n",
    "        padding=False     # we'll let the data collator handle padding\n",
    "    )\n",
    "\n",
    "# tokenized_dataset = dataset.map(tokenize_function, batched=True, remove_columns=[\"text\"])\n",
    "# print(tokenized_dataset)\n",
    "\n",
    "train_dataset = train.map(tokenize_function, batched=True, remove_columns=[\"text\"])\n",
    "eval_dataset = val.map(tokenize_function, batched=True, remove_columns=[\"text\"])"
   ]
  },
  {
   "cell_type": "code",
   "execution_count": null,
   "metadata": {},
   "outputs": [],
   "source": [
    "# Assuming tokenized_dataset is a DatasetDict with 'train' split\n",
    "# train_size = int(0.8 * 700)  # Use the 'train' split\n",
    "\n",
    "# train_dataset = tokenized_dataset[\"train\"].select(range(train_size))  # Apply select on the train split\n",
    "# eval_dataset = tokenized_dataset[\"train\"].select(range(train_size, len(tokenized_dataset[\"train\"])))  # Remaining for eval\n",
    "\n",
    "# print(\"Train size:\", len(train_dataset))\n",
    "# print(\"Eval size:\", len(eval_dataset))\n"
   ]
  },
  {
   "cell_type": "code",
   "execution_count": null,
   "metadata": {},
   "outputs": [],
   "source": [
    "target_mods = [\"attn.c_attn\", \"attn.c_proj\"]  # typical GPT-2 attention layers\n",
    "lora_config = LoraConfig(\n",
    "    task_type=\"CAUSAL_LM\",\n",
    "    r=8,\n",
    "    lora_alpha=32,\n",
    "    target_modules=target_mods,\n",
    "    lora_dropout=0.01,\n",
    "    bias=\"none\",\n",
    ")"
   ]
  },
  {
   "cell_type": "code",
   "execution_count": null,
   "metadata": {},
   "outputs": [],
   "source": [
    "# Load the base model and attach LoRA adapters\n",
    "base_model = AutoModelForCausalLM.from_pretrained(BASE_MODEL)\n",
    "model = get_peft_model(base_model, lora_config)\n",
    "\n",
    "# Disable caching since gradient checkpointing requires use_cache to be False\n",
    "model.config.use_cache = False\n",
    "\n",
    "# Ensure inputs require gradients for checkpointing to work properly\n",
    "model.enable_input_require_grads()\n",
    "\n",
    "tokenizer.pad_token = tokenizer.eos_token"
   ]
  },
  {
   "cell_type": "code",
   "execution_count": null,
   "metadata": {},
   "outputs": [],
   "source": [
    "data_collator = DataCollatorForLanguageModeling(\n",
    "    tokenizer=tokenizer, \n",
    "    mlm=False  # Causal models do not use masked language modeling\n",
    ")"
   ]
  },
  {
   "cell_type": "code",
   "execution_count": null,
   "metadata": {},
   "outputs": [],
   "source": [
    "training_args = TrainingArguments(\n",
    "    output_dir=\"distilgpt2-crypto-finetuned\",\n",
    "    overwrite_output_dir=True,\n",
    "    num_train_epochs=100,\n",
    "    per_device_train_batch_size=8,  # batch size per device\n",
    "    gradient_accumulation_steps=2,  # to simulate a larger effective batch size\n",
    "    per_device_eval_batch_size=8,\n",
    "    gradient_checkpointing=True,    # saves memory on activations\n",
    "    fp16=True,                      # enable mixed-precision training\n",
    "    evaluation_strategy=\"epoch\",\n",
    "    logging_steps=5,\n",
    "    save_steps=25,\n",
    "    save_total_limit=1,\n",
    "    lr_scheduler_type=\"cosine\",\n",
    "    warmup_steps=10,\n",
    "    learning_rate=5e-4,\n",
    "    dataloader_num_workers=0,       # parallel data loading disabled\n",
    "    optim=\"adamw_torch\",            # optimizer choice\n",
    "    save_safetensors=False,\n",
    "    report_to=\"none\"\n",
    ")"
   ]
  },
  {
   "cell_type": "code",
   "execution_count": null,
   "metadata": {},
   "outputs": [],
   "source": [
    "trainer = Trainer(\n",
    "    model=model,\n",
    "    args=training_args,\n",
    "    train_dataset=train_dataset,\n",
    "    eval_dataset=eval_dataset,\n",
    "    data_collator=data_collator,\n",
    ")"
   ]
  },
  {
   "cell_type": "code",
   "execution_count": null,
   "metadata": {},
   "outputs": [],
   "source": [
    "trainer.train()\n",
    "\n",
    "# Save the final model\n",
    "trainer.save_model(\"gpt2-crypto-finetuned\")\n",
    "print(\"Fine-tuning complete. Model saved.\")"
   ]
  },
  {
   "cell_type": "code",
   "execution_count": null,
   "metadata": {},
   "outputs": [],
   "source": [
    "eval_results = trainer.evaluate()\n",
    "eval_loss = eval_results[\"eval_loss\"]\n",
    "perplexity = math.exp(eval_loss)\n",
    "print(f\"Evaluation Loss: {eval_loss:.4f}\")\n",
    "print(f\"Perplexity: {perplexity:.4f}\")"
   ]
  },
  {
   "cell_type": "code",
   "execution_count": null,
   "metadata": {},
   "outputs": [],
   "source": [
    "model.eval()\n",
    "prompt = \"tell me the top 5 cryptocurrencies\"\n",
    "inputs = tokenizer(prompt, return_tensors=\"pt\").to(\"cuda\")\n",
    "\n",
    "with torch.no_grad():\n",
    "    outputs = model.generate(\n",
    "        **inputs,\n",
    "        max_new_tokens=50,\n",
    "        temperature=0.7,\n",
    "        top_p=0.9\n",
    "    )\n",
    "\n",
    "print(\"Generated text:\")\n",
    "print(tokenizer.decode(outputs[0], skip_special_tokens=True))"
   ]
  }
 ],
 "metadata": {
  "kernelspec": {
   "display_name": "base",
   "language": "python",
   "name": "python3"
  },
  "language_info": {
   "codemirror_mode": {
    "name": "ipython",
    "version": 3
   },
   "file_extension": ".py",
   "mimetype": "text/x-python",
   "name": "python",
   "nbconvert_exporter": "python",
   "pygments_lexer": "ipython3",
   "version": "3.9.12"
  }
 },
 "nbformat": 4,
 "nbformat_minor": 2
}
